{
  "nbformat": 4,
  "nbformat_minor": 0,
  "metadata": {
    "colab": {
      "provenance": [],
      "authorship_tag": "ABX9TyPXn+/oWu/QiFuU95goPkOq",
      "include_colab_link": true
    },
    "kernelspec": {
      "name": "python3",
      "display_name": "Python 3"
    },
    "language_info": {
      "name": "python"
    }
  },
  "cells": [
    {
      "cell_type": "markdown",
      "metadata": {
        "id": "view-in-github",
        "colab_type": "text"
      },
      "source": [
        "<a href=\"https://colab.research.google.com/github/noeyrattikan/pythonest/blob/main/min_test_220523.ipynb\" target=\"_parent\"><img src=\"https://colab.research.google.com/assets/colab-badge.svg\" alt=\"Open In Colab\"/></a>"
      ]
    },
    {
      "cell_type": "code",
      "execution_count": 16,
      "metadata": {
        "colab": {
          "base_uri": "https://localhost:8080/"
        },
        "id": "Ydldxx7luRjM",
        "outputId": "1cde1e57-9abf-4509-9b93-30b1cb6e12dd"
      },
      "outputs": [
        {
          "output_type": "stream",
          "name": "stdout",
          "text": [
            "จำนวนที่ 1:.24\n",
            "จำนวนที่ 2:.17\n",
            "จำนวนที่ 3:.23\n",
            "ค่าน้อยที่สุดคือ  17\n"
          ]
        }
      ],
      "source": [
        "a = int(input( \"จำนวนที่ 1:.\" ) )\n",
        "b = int(input( \"จำนวนที่ 2:.\" ) )\n",
        "c = int(input( \"จำนวนที่ 3:.\" ) )\n",
        "m=a\n",
        "if( b<m ) :\n",
        "    m=b\n",
        "if( c<m ) :\n",
        "    m=c\n",
        "print( \"ค่าน้อยที่สุดคือ \",m)"
      ]
    }
  ]
}